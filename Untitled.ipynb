{
 "cells": [
  {
   "cell_type": "markdown",
   "id": "6c373252",
   "metadata": {},
   "source": [
    "# COMP 3600 Optional Assignment"
   ]
  },
  {
   "cell_type": "code",
   "execution_count": 54,
   "id": "38ffcf94",
   "metadata": {},
   "outputs": [],
   "source": [
    "import os\n",
    "import subprocess\n",
    "import matplotlib.pylab as plt"
   ]
  },
  {
   "cell_type": "markdown",
   "id": "0d34f4fa",
   "metadata": {},
   "source": [
    "## Enture binaries are built"
   ]
  },
  {
   "cell_type": "code",
   "execution_count": 39,
   "id": "b557e8e8",
   "metadata": {},
   "outputs": [
    {
     "name": "stderr",
     "output_type": "stream",
     "text": [
      "galeShapley> build (exe)\n",
      "Preprocessing executable 'generate' for galeShapley-0.1.0.0..\n",
      "Building executable 'generate' for galeShapley-0.1.0.0..\n",
      "Preprocessing executable 'galeShapley' for galeShapley-0.1.0.0..\n",
      "Building executable 'galeShapley' for galeShapley-0.1.0.0..\n",
      "galeShapley> copy/register\n",
      "Installing executable generate in /home/daniel/Development/galeShapley/.stack-work/install/x86_64-linux-tinfo6/30ffec118423d58701af5ac75914b42fef804195aa0b66ceb4c297d12a7e5188/8.10.7/bin\n",
      "Installing executable galeShapley in /home/daniel/Development/galeShapley/.stack-work/install/x86_64-linux-tinfo6/30ffec118423d58701af5ac75914b42fef804195aa0b66ceb4c297d12a7e5188/8.10.7/bin\n"
     ]
    }
   ],
   "source": [
    "os.popen('stack build').read();"
   ]
  },
  {
   "cell_type": "markdown",
   "id": "eef01e6e",
   "metadata": {},
   "source": [
    "## Sample usage"
   ]
  },
  {
   "cell_type": "code",
   "execution_count": 13,
   "id": "c8c5ddf4",
   "metadata": {},
   "outputs": [
    {
     "name": "stdout",
     "output_type": "stream",
     "text": [
      "5\n",
      "3\n",
      "\n",
      "3 2 1 0 4\n",
      "4 2 3 1 0\n",
      "1 0 2 3 4\n",
      "\n",
      "2 4 3 0 1\n",
      "1 2 3 4 0\n",
      "1 2 0 4 3\n",
      "\n",
      "0 2 2 2 1\n",
      "\n",
      "1 1 0 1 0\n",
      "\n"
     ]
    }
   ],
   "source": [
    "sample_input = os.popen('stack run generate 5 3').read()\n",
    "print(sample_input);"
   ]
  },
  {
   "cell_type": "code",
   "execution_count": 15,
   "id": "13f860f8",
   "metadata": {},
   "outputs": [
    {
     "name": "stdout",
     "output_type": "stream",
     "text": [
      "0 3\n",
      "1 1\n",
      "2 0\n",
      "3 2\n",
      "4 4\n"
     ]
    }
   ],
   "source": [
    "gale_shapley_pipe = subprocess.run(['stack', 'run', 'galeShapley'], text=True, input=sample_input)"
   ]
  },
  {
   "cell_type": "markdown",
   "id": "add47062",
   "metadata": {},
   "source": [
    "## Generate inputs for n=20..200 in increments of 10"
   ]
  },
  {
   "cell_type": "code",
   "execution_count": 40,
   "id": "b474236c",
   "metadata": {},
   "outputs": [],
   "source": [
    "parameters = [i for i in range(20, 210, 10)]\n",
    "generated_inputs = {}\n",
    "for n in parameters:\n",
    "    generated_inputs[n] = []\n",
    "    for _ in range(10):\n",
    "        generated_inputs[n].append(os.popen(f'stack run generate {n}').read())"
   ]
  },
  {
   "cell_type": "code",
   "execution_count": 41,
   "id": "c0a027ef",
   "metadata": {},
   "outputs": [],
   "source": [
    "responses = {}\n",
    "for parameter in generated_inputs:\n",
    "    responses[parameter] = []\n",
    "    for generated_input in generated_inputs[parameter]:\n",
    "        gale_shapley_pipe = subprocess.run(['stack', 'run', 'galeShapley'], capture_output=True, text=True, input=generated_input)\n",
    "        responses[parameter].append(gale_shapley_pipe.stdout)"
   ]
  },
  {
   "cell_type": "code",
   "execution_count": 58,
   "id": "3e90d85d",
   "metadata": {},
   "outputs": [
    {
     "name": "stdout",
     "output_type": "stream",
     "text": [
      "{20: 71.1, 30: 125.8, 40: 183.9, 50: 234.9, 60: 310.0, 70: 416.3, 80: 509.9, 90: 523.9, 100: 572.3, 110: 717.9, 120: 811.0, 130: 785.4, 140: 901.4, 150: 938.9, 160: 1159.4, 170: 1155.8, 180: 1375.6, 190: 1391.2, 200: 1390.5}\n"
     ]
    }
   ],
   "source": [
    "averages = {}\n",
    "for parameter in responses:\n",
    "    total = 0\n",
    "    for output in responses[parameter]:\n",
    "        total += int(output.split('\\n')[0])\n",
    "    averages[parameter] = total / 10\n",
    "print(averages)"
   ]
  },
  {
   "cell_type": "code",
   "execution_count": 60,
   "id": "0b8c3ace",
   "metadata": {},
   "outputs": [
    {
     "data": {
      "image/png": "[encoded data removed]",
      "text/plain": [
       "<Figure size 432x288 with 1 Axes>"
      ]
     },
     "metadata": {
      "needs_background": "light"
     },
     "output_type": "display_data"
    }
   ],
   "source": [
    "lists = sorted(averages.items())\n",
    "x, y = zip(*lists)\n",
    "plt.plot(x, y)\n",
    "plt.show()"
   ]
  }
 ],
 "metadata": {
  "kernelspec": {
   "display_name": "Python 3 (ipykernel)",
   "language": "python",
   "name": "python3"
  },
  "language_info": {
   "codemirror_mode": {
    "name": "ipython",
    "version": 3
   },
   "file_extension": ".py",
   "mimetype": "text/x-python",
   "name": "python",
   "nbconvert_exporter": "python",
   "pygments_lexer": "ipython3",
   "version": "3.10.2"
  }
 },
 "nbformat": 4,
 "nbformat_minor": 5
}
