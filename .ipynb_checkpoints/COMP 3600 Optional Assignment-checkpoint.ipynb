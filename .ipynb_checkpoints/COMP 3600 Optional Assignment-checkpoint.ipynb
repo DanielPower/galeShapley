{
 "cells": [
  {
   "cell_type": "markdown",
   "id": "6c373252",
   "metadata": {},
   "source": [
    "# Student Information\n",
    "Daniel Power  \n",
    "201244498"
   ]
  },
  {
   "cell_type": "markdown",
   "id": "946fefdc",
   "metadata": {},
   "source": [
    "# Graphs and Analysis"
   ]
  },
  {
   "cell_type": "markdown",
   "id": "feb37a3d",
   "metadata": {},
   "source": [
    "## Imports and Utilities"
   ]
  },
  {
   "cell_type": "code",
   "execution_count": 1,
   "id": "464220e6",
   "metadata": {},
   "outputs": [],
   "source": [
    "import os\n",
    "import subprocess\n",
    "import matplotlib.pyplot as plt\n",
    "\n",
    "SAMPLE_SIZE=10\n",
    "FIGURE_SIZE=(8,6)\n",
    "\n",
    "def gale_shapley(input):\n",
    "    pipe = subprocess.run(['stack', 'run', 'galeShapley'], capture_output=True, text=True, input=input)\n",
    "    return pipe.stdout\n",
    "\n",
    "def gale_shapley_rounds(input):\n",
    "    return int(gale_shapley(input).split('\\n')[0])\n",
    "\n",
    "def get_averages(parameters, samples):\n",
    "    averages = {}\n",
    "    for parameter in parameters:\n",
    "        n, k = parameter\n",
    "        total = 0\n",
    "        for _ in range(samples):\n",
    "            generated_input = os.popen(f'stack run generate {n} {k}').read()\n",
    "            total += gale_shapley_rounds(generated_input)\n",
    "        averages[parameter] = total/samples\n",
    "    return averages"
   ]
  },
  {
   "cell_type": "markdown",
   "id": "f816c0ab",
   "metadata": {},
   "source": [
    "## Ensure binaries are built\n",
    "\n",
    "The build output may appear with a red background. This is normal and does not indicate an error.\n",
    "On subsequent runs, there may be no output. This is normal since Stack will only build if the binary does not exist, or the source files have been modified. So this will only have an affect on the first run."
   ]
  },
  {
   "cell_type": "code",
   "execution_count": 2,
   "id": "b557e8e8",
   "metadata": {},
   "outputs": [
    {
     "name": "stderr",
     "output_type": "stream",
     "text": [
      "galeShapley> build (exe)\n",
      "Preprocessing executable 'generate' for galeShapley-0.1.0.0..\n",
      "Building executable 'generate' for galeShapley-0.1.0.0..\n",
      "Preprocessing executable 'galeShapley' for galeShapley-0.1.0.0..\n",
      "Building executable 'galeShapley' for galeShapley-0.1.0.0..\n",
      "galeShapley> copy/register\n",
      "Installing executable generate in /root/galeShapley/.stack-work/install/x86_64-linux-tinfo6/dfe6865b5f2768055e881ce4e5ec63114df3a682af6f3e072ae0427b2f7811e3/8.10.7/bin\n",
      "Installing executable galeShapley in /root/galeShapley/.stack-work/install/x86_64-linux-tinfo6/dfe6865b5f2768055e881ce4e5ec63114df3a682af6f3e072ae0427b2f7811e3/8.10.7/bin\n"
     ]
    }
   ],
   "source": [
    "os.popen('stack build').read();"
   ]
  },
  {
   "cell_type": "markdown",
   "id": "ad7ec01a",
   "metadata": {},
   "source": [
    "## Example usage"
   ]
  },
  {
   "cell_type": "code",
   "execution_count": 3,
   "id": "c8c5ddf4",
   "metadata": {},
   "outputs": [
    {
     "name": "stdout",
     "output_type": "stream",
     "text": [
      "5\n",
      "3\n",
      "\n",
      "1 3 0 4 2\n",
      "4 0 1 2 3\n",
      "3 0 4 2 1\n",
      "\n",
      "4 3 2 1 0\n",
      "0 2 3 4 1\n",
      "1 3 0 2 4\n",
      "\n",
      "2 0 1 2 0\n",
      "\n",
      "2 0 1 2 1\n",
      "\n"
     ]
    }
   ],
   "source": [
    "sample_input = os.popen('stack run generate 5 3').read()\n",
    "print(sample_input);"
   ]
  },
  {
   "cell_type": "markdown",
   "id": "8ae45bbd",
   "metadata": {},
   "source": [
    "Note that the output of my Gale Shapley algorithm does not perfectly match the output noted in the assignment requirements. This is because my algorithm works entirely through standard input/output. So I needed to include the round count in the output in order to use it in my statistics."
   ]
  },
  {
   "cell_type": "code",
   "execution_count": 4,
   "id": "13f860f8",
   "metadata": {},
   "outputs": [
    {
     "name": "stdout",
     "output_type": "stream",
     "text": [
      "12\n",
      "0 4\n",
      "1 3\n",
      "2 2\n",
      "3 0\n",
      "4 1\n",
      "\n"
     ]
    }
   ],
   "source": [
    "print(gale_shapley(sample_input))"
   ]
  },
  {
   "cell_type": "markdown",
   "id": "6258e44c",
   "metadata": {},
   "source": [
    "## Generate inputs for n,k=20..200 in increments of 10"
   ]
  },
  {
   "cell_type": "code",
   "execution_count": null,
   "id": "a2647fb3",
   "metadata": {},
   "outputs": [],
   "source": [
    "parameters = [(i, i) for i in range(20, 210, 10)]\n",
    "variable_n_k_averages = get_averages(parameters, SAMPLE_SIZE)"
   ]
  },
  {
   "cell_type": "markdown",
   "id": "f90d03b0",
   "metadata": {},
   "source": [
    "## Generate inputs for n=20..200, k=10 in increments of 10"
   ]
  },
  {
   "cell_type": "code",
   "execution_count": null,
   "id": "d57efd9e",
   "metadata": {},
   "outputs": [],
   "source": [
    "n_values = [i for i in range(20, 210, 10)]\n",
    "parameters = list(zip(n_values, [10]*len(n_values)))\n",
    "variable_n_averages = get_averages(parameters, SAMPLE_SIZE)"
   ]
  },
  {
   "cell_type": "markdown",
   "id": "3ee7994b",
   "metadata": {},
   "source": [
    "## Graph of k=n vs k=10 where n=20..200"
   ]
  },
  {
   "cell_type": "code",
   "execution_count": null,
   "id": "497908ee",
   "metadata": {
    "scrolled": false
   },
   "outputs": [],
   "source": [
    "variable_n_k_pairs = [(n, v) for ((n, _), v) in variable_n_k_averages.items()]\n",
    "variable_n_pairs = [(n, v) for ((n, _), v) in variable_n_averages.items()]\n",
    "\n",
    "combined_pairs = []\n",
    "for i in range(len(variable_n_k_pairs)):\n",
    "    n, v1 = variable_n_k_pairs[i]\n",
    "    _, v2 = pair = variable_n_pairs[i]\n",
    "    combined_pairs.append((n, (v1, v2)))\n",
    "x, y = zip(*combined_pairs)\n",
    "plt.figure(figsize=FIGURE_SIZE)\n",
    "plt.plot(x, y)\n",
    "plt.xticks(range(20, 210, 20))\n",
    "plt.show()"
   ]
  },
  {
   "cell_type": "markdown",
   "id": "a9a396e8",
   "metadata": {},
   "source": [
    "## Observations"
   ]
  },
  {
   "cell_type": "markdown",
   "id": "2c6592af",
   "metadata": {},
   "source": [
    "Repeated preference lists appear to result in a significant increase in the number of rounds required to form a stable matching."
   ]
  },
  {
   "cell_type": "markdown",
   "id": "78492ad5",
   "metadata": {},
   "source": [
    "## Generate inputs for n=200, k=10..200 in increments of 10"
   ]
  },
  {
   "cell_type": "code",
   "execution_count": null,
   "id": "ba25759b",
   "metadata": {},
   "outputs": [],
   "source": [
    "k_values = [i for i in range(10, 210, 10)]\n",
    "parameters = list(zip([200]*len(k_values), k_values))\n",
    "variable_k_averages = get_averages(parameters, SAMPLE_SIZE)"
   ]
  },
  {
   "cell_type": "code",
   "execution_count": null,
   "id": "8851665b",
   "metadata": {
    "scrolled": false
   },
   "outputs": [],
   "source": [
    "variable_k_pairs = [(k, v) for ((_, k), v) in variable_k_averages.items()]\n",
    "x, y = zip(*variable_k_pairs)\n",
    "plt.figure(figsize=FIGURE_SIZE)\n",
    "plt.plot(x, y)\n",
    "plt.xticks(range(10, 210, 20))\n",
    "plt.show()"
   ]
  },
  {
   "cell_type": "markdown",
   "id": "320d80a1",
   "metadata": {},
   "source": [
    "## Observations\n",
    "\n",
    "This result further enforces the idea that repeated preference lists increases the number of rounds required.\n",
    "\n",
    "I suspect this is because hospitals that share a preference list will always propose to students in the same order as each other. Which will result in a higher rate of students switching hospitals.\n",
    "\n",
    "To exaggerate this, let's look at the extreme case where there exists only one preference list which is used by all hospitals. In this scenario, every hospital would propose to the same student. That student would have to reject all but 1 hospital before any hospitals propose to the next student. The same would occur for the second student but with n-1 hospitals, and the third student with n-2 hospitals, and so on."
   ]
  }
 ],
 "metadata": {
  "kernelspec": {
   "display_name": "Python 3 (ipykernel)",
   "language": "python",
   "name": "python3"
  },
  "language_info": {
   "codemirror_mode": {
    "name": "ipython",
    "version": 3
   },
   "file_extension": ".py",
   "mimetype": "text/x-python",
   "name": "python",
   "nbconvert_exporter": "python",
   "pygments_lexer": "ipython3",
   "version": "3.10.2"
  }
 },
 "nbformat": 4,
 "nbformat_minor": 5
}
